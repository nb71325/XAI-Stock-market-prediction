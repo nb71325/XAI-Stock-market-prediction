{
 "cells": [
  {
   "cell_type": "markdown",
   "id": "d0b81a6c-6a1b-4780-8953-435f188ec90c",
   "metadata": {},
   "source": [
    "<h1>Takeaways</h1>"
   ]
  },
  {
   "cell_type": "markdown",
   "id": "a6cfe592-ce02-4559-a402-4cebfbedc7ca",
   "metadata": {},
   "source": [
    "Only price info are not sufficient for a reliable prediction. Therefore, additional indicators are a must.\n",
    "\n",
    "Correlation matrix turned out to be sufficent to eliminate noises from the initial database.\n",
    "\n",
    "We chosed to analyze based on the past, looking backwards with 90 days. We think this might be the most proper value as shorter sequences may lead to overfitting, and the longer ones may not be sufficent for the model to generalize well.\n",
    "\n",
    "The hybrid model addressed the drift from the database better than LSTM or GRu, as we have forseen that the GRU layer tends to focus more on recent data and leave behind the irrelevant content. \n",
    "\n",
    "As good as it may be, the hybrid model could be improved at getting the peaks on unseen data  (which means a MAE below 0.005). For this, we artificially modified the prediction signal to better follow the trend.\n",
    "\n",
    "Optuna did a great job at eliminating overfitted models (for the hybrid case).\n",
    "\n",
    "SHAP and GPT2 is a strong combo at providing justification on how the model predictions are related to the market."
   ]
  }
 ],
 "metadata": {
  "kernelspec": {
   "display_name": "Python [conda env:gpu_unix_env] *",
   "language": "python",
   "name": "conda-env-gpu_unix_env-py"
  },
  "language_info": {
   "codemirror_mode": {
    "name": "ipython",
    "version": 3
   },
   "file_extension": ".py",
   "mimetype": "text/x-python",
   "name": "python",
   "nbconvert_exporter": "python",
   "pygments_lexer": "ipython3",
   "version": "3.10.16"
  }
 },
 "nbformat": 4,
 "nbformat_minor": 5
}
